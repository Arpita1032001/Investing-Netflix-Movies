{
  "metadata": {
    "language_info": {
      "codemirror_mode": {
        "name": "python",
        "version": 3
      },
      "file_extension": ".py",
      "mimetype": "text/x-python",
      "name": "python",
      "nbconvert_exporter": "python",
      "pygments_lexer": "ipython3",
      "version": "3.8"
    },
    "kernelspec": {
      "name": "python",
      "display_name": "Python (Pyodide)",
      "language": "python"
    }
  },
  "nbformat_minor": 4,
  "nbformat": 4,
  "cells": [
    {
      "cell_type": "code",
      "source": "# Create the years and durations lists\nyears = [2011, 2012, 2013, 2014, 2015, 2016, 2017, 2018, 2019, 2020]\ndurations = [103, 101, 99, 100, 100, 95, 95, 96, 93, 90]\n\n# Create a dictionary with the two lists\nmovie_dict = {\"years\" : years, \"durations\" : durations}\n\n# Print the dictionary\nprint(movie_dict)\n\n# Import pandas under its usual alias\nimport pandas as pd\n\n# Create a DataFrame from the dictionary\ndurations_df = pd.DataFrame(movie_dict)\n\n# Print the DataFrame\nprint(durations_df)\n\n# Import matplotlib.pyplot under its usual alias and create a figure\nimport matplotlib.pyplot as plt\nfig = plt.figure()\n\n# Draw a line plot of release_years and durations\nplt.plot(years, durations)\n\n# Create a title\nplt.title(\"Netflix Movie Durations 2011-2020\")\n\n# Show the plot\nplt.show()\n\n# Read in the CSV as a DataFrame\nnetflix_df = pd.read_csv(\"datasets/netflix_data.csv\")\n\n# Print the first five rows of the DataFrame\nprint(netflix_df[0:5])\n\n# Subset the DataFrame for type \"Movie\"\nnetflix_df_movies_only = netflix_df[netflix_df[\"type\"] == \"Movie\"]\n\n\n# Select only the columns of interest\nnetflix_movies_col_subset = netflix_df_movies_only[[\"title\", \"country\", \"genre\", \"release_year\", \"duration\"]]\n\n# Print the first five rows of the new DataFrame\nprint(netflix_movies_col_subset[0:5])\n\n# Create a figure and increase the figure size\nfig = plt.figure(figsize=(12,8))\n\n# Create a scatter plot of duration versus year\nplt.scatter(years, durations)\n\n# Create a title\nplt.title(\"Movie Duration by Year of Release\")\n\n# Show the plot\nplt.show()\n\n# Filter for durations shorter than 60 minutes\nshort_movies = netflix_movies_col_subset[netflix_movies_col_subset[\"duration\"] < 60]\n\n\n# Print the first 20 rows of short_movies\nprint(short_movies[0:20])\n\n# Define an empty list\ncolors = []\n\n# Iterate over rows of netflix_movies_col_subset\nfor lab, row in netflix_movies_col_subset.iterrows() :\n    if row[\"genre\"] == \"Children\":\n        colors.append(\"red\")\n    elif row[\"genre\"] == \"Documentaries\" :\n        colors.append(\"blue\")\n    elif row[\"genre\"] == \"Stand-Up\":\n        colors.append(\"green\")\n    else:\n        colors.append(\"black\")\n        \n# Inspect the first 10 values in your list        \nprint(colors[0:10])\n\n# Set the figure style and initalize a new figure\nplt.style.use('fivethirtyeight')\nfig = plt.figure(figsize=(12,8))\n\n# Create a scatter plot of duration versus release_year\nplt.scatter(netflix_movies_col_subset[\"release_year\"], netflix_movies_col_subset[\"duration\"], c=colors)\n\n# Create a title and axis labels\nplt.title(\"Movie duration by year of release\")\nplt.xlabel(\"Release year\")\nplt.ylabel(\"Duration (min)\")\n\n# Show the plot\nplt.show()\n\n# Are we certain that movies are getting shorter?\nare_movies_getting_shorter = \"maybe\"",
      "metadata": {
        "trusted": true
      },
      "execution_count": null,
      "outputs": []
    },
    {
      "cell_type": "code",
      "source": "",
      "metadata": {},
      "execution_count": null,
      "outputs": []
    },
    {
      "cell_type": "code",
      "source": "",
      "metadata": {},
      "execution_count": null,
      "outputs": []
    },
    {
      "cell_type": "code",
      "source": "",
      "metadata": {},
      "execution_count": null,
      "outputs": []
    },
    {
      "cell_type": "code",
      "source": "",
      "metadata": {},
      "execution_count": null,
      "outputs": []
    },
    {
      "cell_type": "code",
      "source": "",
      "metadata": {},
      "execution_count": null,
      "outputs": []
    },
    {
      "cell_type": "code",
      "source": "",
      "metadata": {},
      "execution_count": null,
      "outputs": []
    }
  ]
}